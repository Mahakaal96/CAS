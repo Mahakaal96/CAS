{
  "nbformat": 4,
  "nbformat_minor": 0,
  "metadata": {
    "colab": {
      "provenance": [],
      "authorship_tag": "ABX9TyPycUCiJul/d6OvpRE7N4gD",
      "include_colab_link": true
    },
    "kernelspec": {
      "name": "python3",
      "display_name": "Python 3"
    },
    "language_info": {
      "name": "python"
    }
  },
  "cells": [
    {
      "cell_type": "markdown",
      "metadata": {
        "id": "view-in-github",
        "colab_type": "text"
      },
      "source": [
        "<a href=\"https://colab.research.google.com/github/Mahakaal96/CAS/blob/main/NNEA_Assignment_1.ipynb\" target=\"_parent\"><img src=\"https://colab.research.google.com/assets/colab-badge.svg\" alt=\"Open In Colab\"/></a>"
      ]
    },
    {
      "cell_type": "code",
      "execution_count": null,
      "metadata": {
        "id": "UfYnUlrdFZ7g"
      },
      "outputs": [],
      "source": [
        "import numpy as np"
      ]
    },
    {
      "cell_type": "code",
      "source": [
        "class Perceptron:\n",
        "    def __init__(self, input_size, learning_rate=0.1, epochs=10):\n",
        "        # Initialize weights and bias\n",
        "        self.weights = np.zeros(input_size + 1)  # +1 for the bias term\n",
        "        self.learning_rate = learning_rate\n",
        "        self.epochs = epochs\n",
        "\n",
        "    def activation(self, x):\n",
        "        return 1 if x >= 0 else 0\n",
        "\n",
        "    def predict(self, x):\n",
        "        linear_output = np.dot(x, self.weights[1:]) + self.weights[0]\n",
        "        return self.activation(linear_output)\n",
        "\n",
        "    def fit(self, X, y):\n",
        "        for _ in range(self.epochs):\n",
        "            for xi, target in zip(X, y):\n",
        "                prediction = self.predict(xi)\n",
        "                update = self.learning_rate * (target - prediction)\n",
        "                self.weights[1:] += update * xi\n",
        "                self.weights[0] += update\n",
        "\n",
        "    def evaluate(self, X, y):\n",
        "        predictions = [self.predict(xi) for xi in X]\n",
        "        accuracy = np.mean(predictions == y)\n",
        "        return accuracy"
      ],
      "metadata": {
        "id": "3TSI2OX2FcyH"
      },
      "execution_count": null,
      "outputs": []
    },
    {
      "cell_type": "code",
      "source": [
        "X = np.array([[0, 0], [0, 1], [1, 0], [1, 1]])\n",
        "y = np.array([0, 1, 1, 1])\n",
        "perceptron = Perceptron(input_size=2)\n",
        "perceptron.fit(X, y)\n",
        "accuracy = perceptron.evaluate(X, y)\n",
        "print(f\"Accuracy: {accuracy * 100}%\")\n",
        "for xi in X:\n",
        "    print(f\"Input: {xi}, Predicted Output: {perceptron.predict(xi)}\")"
      ],
      "metadata": {
        "colab": {
          "base_uri": "https://localhost:8080/"
        },
        "id": "MhC6I04KFidt",
        "outputId": "6f369115-8eac-402b-f6c2-ba4b53b1da2a"
      },
      "execution_count": null,
      "outputs": [
        {
          "output_type": "stream",
          "name": "stdout",
          "text": [
            "Accuracy: 100.0%\n",
            "Input: [0 0], Predicted Output: 0\n",
            "Input: [0 1], Predicted Output: 1\n",
            "Input: [1 0], Predicted Output: 1\n",
            "Input: [1 1], Predicted Output: 1\n"
          ]
        }
      ]
    },
    {
      "cell_type": "code",
      "source": [],
      "metadata": {
        "id": "go7tkMoVFjl0"
      },
      "execution_count": null,
      "outputs": []
    }
  ]
}