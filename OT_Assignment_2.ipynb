{
  "nbformat": 4,
  "nbformat_minor": 0,
  "metadata": {
    "colab": {
      "provenance": [],
      "authorship_tag": "ABX9TyMZg/Tni0If0we5uDkQNYG6",
      "include_colab_link": true
    },
    "kernelspec": {
      "name": "python3",
      "display_name": "Python 3"
    },
    "language_info": {
      "name": "python"
    }
  },
  "cells": [
    {
      "cell_type": "markdown",
      "metadata": {
        "id": "view-in-github",
        "colab_type": "text"
      },
      "source": [
        "<a href=\"https://colab.research.google.com/github/Mahakaal96/CAS/blob/main/OT_Assignment_2.ipynb\" target=\"_parent\"><img src=\"https://colab.research.google.com/assets/colab-badge.svg\" alt=\"Open In Colab\"/></a>"
      ]
    },
    {
      "cell_type": "code",
      "execution_count": null,
      "metadata": {
        "id": "DygXiT45EEC8"
      },
      "outputs": [],
      "source": [
        "import numpy as np"
      ]
    },
    {
      "cell_type": "code",
      "source": [
        "def find_dual(c, A, b, sign='max'):\n",
        "    \"\"\"\n",
        "    c: Coefficients of the objective function (1D array)\n",
        "    A: Coefficients matrix of the constraints (2D array)\n",
        "    b: Right-hand side of the constraints (1D array)\n",
        "    sign: 'max' if the primal problem is a maximization problem, 'min' if minimization\n",
        "    return: dual_c, dual_A, dual_b, dual_sign\n",
        "    \"\"\"\n",
        "    A_transpose = np.transpose(A)\n",
        "    dual_c = b\n",
        "    dual_A = A_transpose\n",
        "    dual_b = c\n",
        "    dual_sign = 'min' if sign == 'max' else 'max'\n",
        "    return dual_c, dual_A, dual_b, dual_sign"
      ],
      "metadata": {
        "id": "Xr5ecCVVEHrZ"
      },
      "execution_count": null,
      "outputs": []
    },
    {
      "cell_type": "code",
      "source": [
        "c = np.array([3, 2])  # Coefficients of the objective function\n",
        "A = np.array([[1, 2], [4, 0], [0, 4]])  # Coefficients of the constraints\n",
        "b = np.array([8, 16, 12])  # Right-hand side of the constraints\n",
        "dual_c, dual_A, dual_b, dual_sign = find_dual(c, A, b)\n",
        "print(\"Dual Objective Function Coefficients:\", dual_c)\n",
        "print(\"Dual Constraints Coefficients Matrix:\\n\", dual_A)\n",
        "print(\"Dual Right-hand Side:\", dual_b)\n",
        "print(\"Dual Problem Type:\", dual_sign)"
      ],
      "metadata": {
        "colab": {
          "base_uri": "https://localhost:8080/"
        },
        "id": "dYxOdIlhEMLe",
        "outputId": "14e67ee5-bd8b-4fae-8dd8-5cd4b3e92730"
      },
      "execution_count": null,
      "outputs": [
        {
          "output_type": "stream",
          "name": "stdout",
          "text": [
            "Dual Objective Function Coefficients: [ 8 16 12]\n",
            "Dual Constraints Coefficients Matrix:\n",
            " [[1 4 0]\n",
            " [2 0 4]]\n",
            "Dual Right-hand Side: [3 2]\n",
            "Dual Problem Type: min\n"
          ]
        }
      ]
    },
    {
      "cell_type": "code",
      "source": [],
      "metadata": {
        "id": "cPy067W9E5vO"
      },
      "execution_count": null,
      "outputs": []
    }
  ]
}