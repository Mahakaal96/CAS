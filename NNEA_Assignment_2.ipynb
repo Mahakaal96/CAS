{
  "nbformat": 4,
  "nbformat_minor": 0,
  "metadata": {
    "colab": {
      "provenance": [],
      "authorship_tag": "ABX9TyNCGM9wF+ltG5BswSxvwilW",
      "include_colab_link": true
    },
    "kernelspec": {
      "name": "python3",
      "display_name": "Python 3"
    },
    "language_info": {
      "name": "python"
    }
  },
  "cells": [
    {
      "cell_type": "markdown",
      "metadata": {
        "id": "view-in-github",
        "colab_type": "text"
      },
      "source": [
        "<a href=\"https://colab.research.google.com/github/Mahakaal96/CAS/blob/main/NNEA_Assignment_2.ipynb\" target=\"_parent\"><img src=\"https://colab.research.google.com/assets/colab-badge.svg\" alt=\"Open In Colab\"/></a>"
      ]
    },
    {
      "cell_type": "code",
      "execution_count": 8,
      "metadata": {
        "id": "pN4NU6SiQUhF"
      },
      "outputs": [],
      "source": [
        "import numpy as np"
      ]
    },
    {
      "cell_type": "code",
      "source": [
        "def sigmoid(x):\n",
        "    return 1 / (1 + np.exp(-x))"
      ],
      "metadata": {
        "id": "i4-quacVQanc"
      },
      "execution_count": 9,
      "outputs": []
    },
    {
      "cell_type": "code",
      "source": [
        "def sigmoid_derivative(x):\n",
        "    return x * (1 - x)"
      ],
      "metadata": {
        "id": "RB9G9_uAQghR"
      },
      "execution_count": 10,
      "outputs": []
    },
    {
      "cell_type": "code",
      "source": [
        "X = np.array([[0, 0], [0, 1], [1, 0], [1, 1]]) #inputs\n",
        "y = np.array([[0], [1], [1], [0]]) #outputs\n",
        "np.random.seed(42)\n",
        "input_layer_neurons = X.shape[1]\n",
        "hidden_layer_neurons = 2\n",
        "output_neurons = 1\n",
        "hidden_weights = np.random.uniform(size=(input_layer_neurons, hidden_layer_neurons))\n",
        "hidden_bias = np.random.uniform(size=(1, hidden_layer_neurons))\n",
        "output_weights = np.random.uniform(size=(hidden_layer_neurons, output_neurons))\n",
        "output_bias = np.random.uniform(size=(1, output_neurons))\n",
        "learning_rate = 0.1"
      ],
      "metadata": {
        "id": "bYhsqm4cQjZZ"
      },
      "execution_count": 11,
      "outputs": []
    },
    {
      "cell_type": "code",
      "source": [
        "# Training\n",
        "for epoch in range(10000):\n",
        "    hidden_layer_input = np.dot(X, hidden_weights) + hidden_bias\n",
        "    hidden_layer_activation = sigmoid(hidden_layer_input)\n",
        "    output_layer_input = np.dot(hidden_layer_activation, output_weights) + output_bias\n",
        "    predicted_output = sigmoid(output_layer_input)\n",
        "\n",
        "    error = y - predicted_output\n",
        "    d_predicted_output = error * sigmoid_derivative(predicted_output)\n",
        "    error_hidden_layer = d_predicted_output.dot(output_weights.T)\n",
        "    d_hidden_layer = error_hidden_layer * sigmoid_derivative(hidden_layer_activation)\n",
        "\n",
        "    output_weights += hidden_layer_activation.T.dot(d_predicted_output) * learning_rate\n",
        "    output_bias += np.sum(d_predicted_output, axis=0, keepdims=True) * learning_rate\n",
        "    hidden_weights += X.T.dot(d_hidden_layer) * learning_rate\n",
        "    hidden_bias += np.sum(d_hidden_layer, axis=0, keepdims=True) * learning_rate"
      ],
      "metadata": {
        "id": "9xJwalzKRGZb"
      },
      "execution_count": 12,
      "outputs": []
    },
    {
      "cell_type": "code",
      "source": [
        "# Testing\n",
        "print(\"Final hidden weights: \", hidden_weights)\n",
        "print(\"Final hidden biases: \", hidden_bias)\n",
        "print(\"Final output weights: \", output_weights)\n",
        "print(\"Final output biases: \", output_bias)\n",
        "print(\"Predicted Output: \\n\", predicted_output)"
      ],
      "metadata": {
        "colab": {
          "base_uri": "https://localhost:8080/"
        },
        "id": "qX03WeyVRLAJ",
        "outputId": "e4a493f1-32be-411b-9bcb-917de7af2f8d"
      },
      "execution_count": 13,
      "outputs": [
        {
          "output_type": "stream",
          "name": "stdout",
          "text": [
            "Final hidden weights:  [[3.79198478 5.81661184]\n",
            " [3.80004873 5.8545897 ]]\n",
            "Final hidden biases:  [[-5.82020057 -2.46277158]]\n",
            "Final output weights:  [[-8.32186051]\n",
            " [ 7.66063503]]\n",
            "Final output biases:  [[-3.45550373]]\n",
            "Predicted Output: \n",
            " [[0.05322146]\n",
            " [0.95171535]\n",
            " [0.95160449]\n",
            " [0.05175396]]\n"
          ]
        }
      ]
    },
    {
      "cell_type": "code",
      "source": [
        "#predicting\n",
        "for xi, yi in zip(X, y):\n",
        "    hidden_layer_input = np.dot(xi, hidden_weights) + hidden_bias\n",
        "    hidden_layer_activation = sigmoid(hidden_layer_input)\n",
        "    output_layer_input = np.dot(hidden_layer_activation, output_weights) + output_bias\n",
        "    predicted_output = sigmoid(output_layer_input)\n",
        "    print(f\"Input: {xi}, Predicted Output: {predicted_output[0]}, Actual Output: {yi[0]}\")"
      ],
      "metadata": {
        "colab": {
          "base_uri": "https://localhost:8080/"
        },
        "id": "eaLaT_-xRQT6",
        "outputId": "da0aeb7a-3b0d-4fc9-da5e-c78f8c80d1a4"
      },
      "execution_count": 14,
      "outputs": [
        {
          "output_type": "stream",
          "name": "stdout",
          "text": [
            "Input: [0 0], Predicted Output: [0.05321718], Actual Output: 0\n",
            "Input: [0 1], Predicted Output: [0.95171956], Actual Output: 1\n",
            "Input: [1 0], Predicted Output: [0.95160871], Actual Output: 1\n",
            "Input: [1 1], Predicted Output: [0.05174923], Actual Output: 0\n"
          ]
        }
      ]
    },
    {
      "cell_type": "code",
      "source": [],
      "metadata": {
        "id": "nkLWIKX-Rj_o"
      },
      "execution_count": null,
      "outputs": []
    }
  ]
}