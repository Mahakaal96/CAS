{
  "nbformat": 4,
  "nbformat_minor": 0,
  "metadata": {
    "colab": {
      "provenance": [],
      "authorship_tag": "ABX9TyM7c7HCvmJlWy6kaVg+qHs9",
      "include_colab_link": true
    },
    "kernelspec": {
      "name": "python3",
      "display_name": "Python 3"
    },
    "language_info": {
      "name": "python"
    }
  },
  "cells": [
    {
      "cell_type": "markdown",
      "metadata": {
        "id": "view-in-github",
        "colab_type": "text"
      },
      "source": [
        "<a href=\"https://colab.research.google.com/github/Mahakaal96/CAS/blob/main/NNEA_Assignment_3.ipynb\" target=\"_parent\"><img src=\"https://colab.research.google.com/assets/colab-badge.svg\" alt=\"Open In Colab\"/></a>"
      ]
    },
    {
      "cell_type": "code",
      "source": [
        "# WAP to find the solution of some optimiztion problem using Genetic Algorithm (Knapsack Problem)."
      ],
      "metadata": {
        "id": "I2aBwuoGT-pO"
      },
      "execution_count": 10,
      "outputs": []
    },
    {
      "cell_type": "code",
      "execution_count": 11,
      "metadata": {
        "id": "MZy3GIzPR-IM"
      },
      "outputs": [],
      "source": [
        "import random\n",
        "import numpy as np"
      ]
    },
    {
      "cell_type": "code",
      "source": [
        "items = [\n",
        "    {\"weight\": 10, \"value\": 60},\n",
        "    {\"weight\": 20, \"value\": 100},\n",
        "    {\"weight\": 30, \"value\": 120},\n",
        "]\n",
        "population_size = 10\n",
        "generations = 50\n",
        "mutation_rate = 0.01\n",
        "knapsack_capacity = 50"
      ],
      "metadata": {
        "id": "HYbu-yAhSEvJ"
      },
      "execution_count": 12,
      "outputs": []
    },
    {
      "cell_type": "code",
      "source": [
        "# Generate a random solution (individual)\n",
        "def generate_individual():\n",
        "    return [random.randint(0, 1) for _ in range(len(items))]"
      ],
      "metadata": {
        "id": "MBUMBMcZTFTQ"
      },
      "execution_count": 13,
      "outputs": []
    },
    {
      "cell_type": "code",
      "source": [
        "# Generate the initial population\n",
        "def generate_population(size):\n",
        "    return [generate_individual() for _ in range(size)]"
      ],
      "metadata": {
        "id": "bQzulIk2TJ6-"
      },
      "execution_count": 14,
      "outputs": []
    },
    {
      "cell_type": "code",
      "source": [
        "# Fitness function: total value of items in the knapsack, penalized by weight\n",
        "def fitness(individual):\n",
        "    total_weight = sum(individual[i] * items[i][\"weight\"] for i in range(len(items)))\n",
        "    total_value = sum(individual[i] * items[i][\"value\"] for i in range(len(items)))\n",
        "\n",
        "    if total_weight > knapsack_capacity:\n",
        "        return 0  # Penalize solutions that exceed the capacity\n",
        "\n",
        "    return total_value"
      ],
      "metadata": {
        "id": "mSNvoa_tTMbf"
      },
      "execution_count": 15,
      "outputs": []
    },
    {
      "cell_type": "code",
      "source": [
        "# Selection: Roulette Wheel Selection\n",
        "def selection(population):\n",
        "    fitness_values = [fitness(individual) for individual in population]\n",
        "    total_fitness = sum(fitness_values)\n",
        "\n",
        "    if total_fitness == 0:\n",
        "        return random.choice(population)\n",
        "\n",
        "    pick = random.uniform(0, total_fitness)\n",
        "    current = 0\n",
        "    for individual, fit in zip(population, fitness_values):\n",
        "        current += fit\n",
        "        if current > pick:\n",
        "            return individual"
      ],
      "metadata": {
        "id": "SWFwyMW7TQtX"
      },
      "execution_count": 16,
      "outputs": []
    },
    {
      "cell_type": "code",
      "source": [
        "# Crossover: Single-point crossover\n",
        "def crossover(parent1, parent2):\n",
        "    point = random.randint(1, len(parent1) - 1)\n",
        "    child1 = parent1[:point] + parent2[point:]\n",
        "    child2 = parent2[:point] + parent1[point:]\n",
        "    return child1, child2"
      ],
      "metadata": {
        "id": "KdsW3rApTUK9"
      },
      "execution_count": 17,
      "outputs": []
    },
    {
      "cell_type": "code",
      "source": [
        "# Mutation: Flip bit\n",
        "def mutation(individual, mutation_rate):\n",
        "    return [\n",
        "        bit if random.random() > mutation_rate else 1 - bit\n",
        "        for bit in individual\n",
        "    ]"
      ],
      "metadata": {
        "id": "d3KHgY8qTXqH"
      },
      "execution_count": 18,
      "outputs": []
    },
    {
      "cell_type": "code",
      "source": [
        "def genetic_algorithm(population_size, generations, mutation_rate):\n",
        "    population = generate_population(population_size)\n",
        "\n",
        "    for generation in range(generations):\n",
        "        new_population = []\n",
        "\n",
        "        for _ in range(population_size // 2):  # Generate two children at a time\n",
        "            parent1 = selection(population)\n",
        "            parent2 = selection(population)\n",
        "\n",
        "            child1, child2 = crossover(parent1, parent2)\n",
        "            child1 = mutation(child1, mutation_rate)\n",
        "            child2 = mutation(child2, mutation_rate)\n",
        "\n",
        "            new_population.extend([child1, child2])\n",
        "\n",
        "        population = new_population\n",
        "\n",
        "    # After all generations, return the best solution\n",
        "    best_individual = max(population, key=fitness)\n",
        "    best_fitness = fitness(best_individual)\n",
        "    return best_individual, best_fitness"
      ],
      "metadata": {
        "id": "D__LmIpsTaM-"
      },
      "execution_count": 19,
      "outputs": []
    },
    {
      "cell_type": "code",
      "source": [
        "best_solution, best_fitness = genetic_algorithm(population_size, generations, mutation_rate)\n",
        "print(\"Best solution:\", best_solution)\n",
        "print(\"Best fitness (total value):\", best_fitness)\n",
        "print(\"Total weight:\", sum(best_solution[i] * items[i][\"weight\"] for i in range(len(items))))\n",
        "print(\"Items included in the knapsack:\")\n",
        "for i in range(len(items)):\n",
        "    if best_solution[i] == 1:\n",
        "        print(f\"Item {i + 1}: Weight = {items[i]['weight']}, Value = {items[i]['value']}\")"
      ],
      "metadata": {
        "colab": {
          "base_uri": "https://localhost:8080/"
        },
        "id": "MDYEGQjPTfim",
        "outputId": "52d64734-789b-4681-b6ec-7b7a75e4e19e"
      },
      "execution_count": 20,
      "outputs": [
        {
          "output_type": "stream",
          "name": "stdout",
          "text": [
            "Best solution: [0, 1, 1]\n",
            "Best fitness (total value): 220\n",
            "Total weight: 50\n",
            "Items included in the knapsack:\n",
            "Item 2: Weight = 20, Value = 100\n",
            "Item 3: Weight = 30, Value = 120\n"
          ]
        }
      ]
    },
    {
      "cell_type": "code",
      "source": [],
      "metadata": {
        "id": "nTIEboe_UMwF"
      },
      "execution_count": null,
      "outputs": []
    }
  ]
}