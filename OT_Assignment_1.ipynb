{
  "nbformat": 4,
  "nbformat_minor": 0,
  "metadata": {
    "colab": {
      "provenance": [],
      "authorship_tag": "ABX9TyNihRW9RgPdDDKBsgsaveak",
      "include_colab_link": true
    },
    "kernelspec": {
      "name": "python3",
      "display_name": "Python 3"
    },
    "language_info": {
      "name": "python"
    }
  },
  "cells": [
    {
      "cell_type": "markdown",
      "metadata": {
        "id": "view-in-github",
        "colab_type": "text"
      },
      "source": [
        "<a href=\"https://colab.research.google.com/github/Mahakaal96/CAS/blob/main/OT_Assignment_1.ipynb\" target=\"_parent\"><img src=\"https://colab.research.google.com/assets/colab-badge.svg\" alt=\"Open In Colab\"/></a>"
      ]
    },
    {
      "cell_type": "code",
      "execution_count": null,
      "metadata": {
        "id": "6FYfu31U7l4n"
      },
      "outputs": [],
      "source": [
        "import numpy as np"
      ]
    },
    {
      "cell_type": "code",
      "source": [
        "def pivot(mat, row, col):\n",
        "    mat[row, :] /= mat[row, col]\n",
        "    for i in range(mat.shape[0]):\n",
        "        if i != row:\n",
        "            mat[i, :] -= mat[i, col] * mat[row, :]"
      ],
      "metadata": {
        "id": "yI_2A6rK9ED2"
      },
      "execution_count": null,
      "outputs": []
    },
    {
      "cell_type": "code",
      "source": [
        "def simplex(c, A, b):\n",
        "    m, n = A.shape\n",
        "    tableau = np.zeros((m + 1, n + m + 1))\n",
        "    tableau[:m, :n] = A\n",
        "    tableau[:m, n:n + m] = np.eye(m)\n",
        "    tableau[:m, -1] = b\n",
        "    tableau[-1, :n] = -c\n",
        "    while True:\n",
        "        if np.all(tableau[-1, :-1] >= 0):\n",
        "            break\n",
        "        col = np.argmin(tableau[-1, :-1])\n",
        "        ratios = tableau[:-1, -1] / tableau[:-1, col]\n",
        "        ratios[ratios <= 0] = np.inf\n",
        "        row = np.argmin(ratios)\n",
        "        pivot(tableau, row, col)\n",
        "    solution = np.zeros(n)\n",
        "    for i in range(n):\n",
        "        column = tableau[:-1, i]\n",
        "        if np.sum(column == 1) == 1 and np.sum(column) == 1:\n",
        "            solution[i] = tableau[np.where(column == 1)[0][0], -1]\n",
        "    return tableau[-1, -1], solution"
      ],
      "metadata": {
        "id": "_mZSB6rF9Gm2"
      },
      "execution_count": null,
      "outputs": []
    },
    {
      "cell_type": "code",
      "source": [
        "if __name__ == \"__main__\":\n",
        "    c = np.array([3, 4]) # Objective function coefficients\n",
        "    A = np.array([[2, 1],[1, 1]]) # Inequality constraints coefficients\n",
        "    b = np.array([600, 450]) # Right-hand side values\n",
        "    max_value, variables = simplex(c, A, b)\n",
        "    print(f\"Optimal value: {max_value}\")\n",
        "    print(f\"Values of variables: {variables}\")"
      ],
      "metadata": {
        "colab": {
          "base_uri": "https://localhost:8080/"
        },
        "id": "5TAwJj199JTW",
        "outputId": "41f88bd9-9535-40d5-cf06-b7368d882e9c"
      },
      "execution_count": null,
      "outputs": [
        {
          "output_type": "stream",
          "name": "stdout",
          "text": [
            "Optimal value: 1800.0\n",
            "Values of variables: [  0. 450.]\n"
          ]
        }
      ]
    },
    {
      "cell_type": "code",
      "source": [],
      "metadata": {
        "id": "fE8Ybtnc9J-d"
      },
      "execution_count": null,
      "outputs": []
    }
  ]
}